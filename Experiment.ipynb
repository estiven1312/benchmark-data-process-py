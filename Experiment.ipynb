{
 "cells": [
  {
   "cell_type": "code",
   "execution_count": 1,
   "id": "bd684dbe-a967-4138-953e-37bbbc6530e4",
   "metadata": {},
   "outputs": [],
   "source": [
    "import pandas as pd\n",
    "import timeit"
   ]
  },
  {
   "cell_type": "code",
   "execution_count": 3,
   "id": "a1f7f1d1-cb26-43d6-bc49-22611baf0231",
   "metadata": {},
   "outputs": [],
   "source": [
    "df=pd.read_csv('./GUIDE_Test.csv', sep=',',  dtype={\"MitreTechniques\": str, \"ActionGrouped\": str, 'ActionGranular':str, 'ThreatFamily':str, 'ResourceType':str, 'Roles':str, 'AntispamDirection':str,'SuspicionLevel': str, 'LastVerdict':str})\n"
   ]
  },
  {
   "cell_type": "code",
   "execution_count": 4,
   "id": "d298d9f5-c3f9-451d-9eeb-2a6bd9a28106",
   "metadata": {},
   "outputs": [
    {
     "data": {
      "text/html": [
       "<div>\n",
       "<style scoped>\n",
       "    .dataframe tbody tr th:only-of-type {\n",
       "        vertical-align: middle;\n",
       "    }\n",
       "\n",
       "    .dataframe tbody tr th {\n",
       "        vertical-align: top;\n",
       "    }\n",
       "\n",
       "    .dataframe thead th {\n",
       "        text-align: right;\n",
       "    }\n",
       "</style>\n",
       "<table border=\"1\" class=\"dataframe\">\n",
       "  <thead>\n",
       "    <tr style=\"text-align: right;\">\n",
       "      <th></th>\n",
       "      <th>Id</th>\n",
       "      <th>OrgId</th>\n",
       "      <th>IncidentId</th>\n",
       "      <th>AlertId</th>\n",
       "      <th>Timestamp</th>\n",
       "      <th>DetectorId</th>\n",
       "      <th>AlertTitle</th>\n",
       "      <th>Category</th>\n",
       "      <th>MitreTechniques</th>\n",
       "      <th>IncidentGrade</th>\n",
       "      <th>...</th>\n",
       "      <th>Roles</th>\n",
       "      <th>OSFamily</th>\n",
       "      <th>OSVersion</th>\n",
       "      <th>AntispamDirection</th>\n",
       "      <th>SuspicionLevel</th>\n",
       "      <th>LastVerdict</th>\n",
       "      <th>CountryCode</th>\n",
       "      <th>State</th>\n",
       "      <th>City</th>\n",
       "      <th>Usage</th>\n",
       "    </tr>\n",
       "  </thead>\n",
       "  <tbody>\n",
       "    <tr>\n",
       "      <th>4147987</th>\n",
       "      <td>541165881145</td>\n",
       "      <td>262</td>\n",
       "      <td>3017</td>\n",
       "      <td>227156</td>\n",
       "      <td>2024-06-04T03:53:15.000Z</td>\n",
       "      <td>139</td>\n",
       "      <td>120</td>\n",
       "      <td>InitialAccess</td>\n",
       "      <td>T1566.002</td>\n",
       "      <td>BenignPositive</td>\n",
       "      <td>...</td>\n",
       "      <td>NaN</td>\n",
       "      <td>5</td>\n",
       "      <td>66</td>\n",
       "      <td>NaN</td>\n",
       "      <td>NaN</td>\n",
       "      <td>NaN</td>\n",
       "      <td>242</td>\n",
       "      <td>1445</td>\n",
       "      <td>10630</td>\n",
       "      <td>Public</td>\n",
       "    </tr>\n",
       "    <tr>\n",
       "      <th>4147988</th>\n",
       "      <td>438086666953</td>\n",
       "      <td>1323</td>\n",
       "      <td>31001</td>\n",
       "      <td>304819</td>\n",
       "      <td>2024-06-04T19:32:19.000Z</td>\n",
       "      <td>219</td>\n",
       "      <td>196</td>\n",
       "      <td>InitialAccess</td>\n",
       "      <td>NaN</td>\n",
       "      <td>BenignPositive</td>\n",
       "      <td>...</td>\n",
       "      <td>NaN</td>\n",
       "      <td>5</td>\n",
       "      <td>66</td>\n",
       "      <td>NaN</td>\n",
       "      <td>NaN</td>\n",
       "      <td>NaN</td>\n",
       "      <td>242</td>\n",
       "      <td>1445</td>\n",
       "      <td>10630</td>\n",
       "      <td>Private</td>\n",
       "    </tr>\n",
       "    <tr>\n",
       "      <th>4147989</th>\n",
       "      <td>1297080124487</td>\n",
       "      <td>47</td>\n",
       "      <td>3653</td>\n",
       "      <td>7243</td>\n",
       "      <td>2024-06-15T00:50:22.000Z</td>\n",
       "      <td>57</td>\n",
       "      <td>29</td>\n",
       "      <td>CommandAndControl</td>\n",
       "      <td>T1046;T1071;T1210</td>\n",
       "      <td>FalsePositive</td>\n",
       "      <td>...</td>\n",
       "      <td>NaN</td>\n",
       "      <td>5</td>\n",
       "      <td>66</td>\n",
       "      <td>NaN</td>\n",
       "      <td>NaN</td>\n",
       "      <td>NaN</td>\n",
       "      <td>242</td>\n",
       "      <td>1445</td>\n",
       "      <td>10630</td>\n",
       "      <td>Public</td>\n",
       "    </tr>\n",
       "    <tr>\n",
       "      <th>4147990</th>\n",
       "      <td>627065226886</td>\n",
       "      <td>70</td>\n",
       "      <td>4243</td>\n",
       "      <td>19142</td>\n",
       "      <td>2024-06-11T16:18:12.000Z</td>\n",
       "      <td>1</td>\n",
       "      <td>1</td>\n",
       "      <td>InitialAccess</td>\n",
       "      <td>T1566.002</td>\n",
       "      <td>BenignPositive</td>\n",
       "      <td>...</td>\n",
       "      <td>NaN</td>\n",
       "      <td>5</td>\n",
       "      <td>66</td>\n",
       "      <td>NaN</td>\n",
       "      <td>NaN</td>\n",
       "      <td>NaN</td>\n",
       "      <td>242</td>\n",
       "      <td>1445</td>\n",
       "      <td>10630</td>\n",
       "      <td>Private</td>\n",
       "    </tr>\n",
       "    <tr>\n",
       "      <th>4147991</th>\n",
       "      <td>326417516547</td>\n",
       "      <td>227</td>\n",
       "      <td>8384</td>\n",
       "      <td>33529</td>\n",
       "      <td>2024-06-04T18:11:09.000Z</td>\n",
       "      <td>1</td>\n",
       "      <td>1</td>\n",
       "      <td>InitialAccess</td>\n",
       "      <td>T1566.002</td>\n",
       "      <td>TruePositive</td>\n",
       "      <td>...</td>\n",
       "      <td>NaN</td>\n",
       "      <td>5</td>\n",
       "      <td>66</td>\n",
       "      <td>NaN</td>\n",
       "      <td>NaN</td>\n",
       "      <td>NoThreatsFound</td>\n",
       "      <td>242</td>\n",
       "      <td>1445</td>\n",
       "      <td>10630</td>\n",
       "      <td>Public</td>\n",
       "    </tr>\n",
       "  </tbody>\n",
       "</table>\n",
       "<p>5 rows × 46 columns</p>\n",
       "</div>"
      ],
      "text/plain": [
       "                    Id  OrgId  IncidentId  AlertId                 Timestamp  \\\n",
       "4147987   541165881145    262        3017   227156  2024-06-04T03:53:15.000Z   \n",
       "4147988   438086666953   1323       31001   304819  2024-06-04T19:32:19.000Z   \n",
       "4147989  1297080124487     47        3653     7243  2024-06-15T00:50:22.000Z   \n",
       "4147990   627065226886     70        4243    19142  2024-06-11T16:18:12.000Z   \n",
       "4147991   326417516547    227        8384    33529  2024-06-04T18:11:09.000Z   \n",
       "\n",
       "         DetectorId  AlertTitle           Category    MitreTechniques  \\\n",
       "4147987         139         120      InitialAccess          T1566.002   \n",
       "4147988         219         196      InitialAccess                NaN   \n",
       "4147989          57          29  CommandAndControl  T1046;T1071;T1210   \n",
       "4147990           1           1      InitialAccess          T1566.002   \n",
       "4147991           1           1      InitialAccess          T1566.002   \n",
       "\n",
       "          IncidentGrade  ... Roles OSFamily OSVersion AntispamDirection  \\\n",
       "4147987  BenignPositive  ...   NaN        5        66               NaN   \n",
       "4147988  BenignPositive  ...   NaN        5        66               NaN   \n",
       "4147989   FalsePositive  ...   NaN        5        66               NaN   \n",
       "4147990  BenignPositive  ...   NaN        5        66               NaN   \n",
       "4147991    TruePositive  ...   NaN        5        66               NaN   \n",
       "\n",
       "         SuspicionLevel     LastVerdict  CountryCode  State   City    Usage  \n",
       "4147987             NaN             NaN          242   1445  10630   Public  \n",
       "4147988             NaN             NaN          242   1445  10630  Private  \n",
       "4147989             NaN             NaN          242   1445  10630   Public  \n",
       "4147990             NaN             NaN          242   1445  10630  Private  \n",
       "4147991             NaN  NoThreatsFound          242   1445  10630   Public  \n",
       "\n",
       "[5 rows x 46 columns]"
      ]
     },
     "execution_count": 4,
     "metadata": {},
     "output_type": "execute_result"
    }
   ],
   "source": [
    "df.tail(5)"
   ]
  },
  {
   "cell_type": "code",
   "execution_count": 7,
   "id": "2b4c7fc5-9542-4e5e-b7c0-9f57324ec7ce",
   "metadata": {},
   "outputs": [
    {
     "name": "stdout",
     "output_type": "stream",
     "text": [
      "373 ms ± 13.1 ms per loop (mean ± std. dev. of 7 runs, 1 loop each)\n"
     ]
    }
   ],
   "source": [
    "%%timeit\n",
    "filtered_df = df[df['IncidentGrade'] == 'FalsePositive']"
   ]
  },
  {
   "cell_type": "code",
   "execution_count": 34,
   "id": "449ec55b-7e12-4c8a-a6a1-fd8880ba754c",
   "metadata": {},
   "outputs": [
    {
     "name": "stdout",
     "output_type": "stream",
     "text": [
      "Collecting polars\n",
      "  Using cached polars-1.6.0-cp38-abi3-win_amd64.whl.metadata (14 kB)\n",
      "Using cached polars-1.6.0-cp38-abi3-win_amd64.whl (31.4 MB)\n",
      "Installing collected packages: polars\n",
      "Successfully installed polars-1.6.0\n",
      "Note: you may need to restart the kernel to use updated packages.\n"
     ]
    }
   ],
   "source": [
    "pip install polars"
   ]
  },
  {
   "cell_type": "code",
   "execution_count": 9,
   "id": "d11818d8-f533-4a12-9279-5ae2989e2f36",
   "metadata": {},
   "outputs": [],
   "source": [
    "import polars as pl"
   ]
  },
  {
   "cell_type": "code",
   "execution_count": 11,
   "id": "3e15706b-f100-4de7-97d9-578b73083761",
   "metadata": {},
   "outputs": [],
   "source": [
    "df_csv = pl.read_csv('./GUIDE_Test.csv')"
   ]
  },
  {
   "cell_type": "code",
   "execution_count": 13,
   "id": "88f7aad8-1a75-43aa-a2a6-db2f5b8f3983",
   "metadata": {},
   "outputs": [
    {
     "name": "stdout",
     "output_type": "stream",
     "text": [
      "130 ms ± 1.38 ms per loop (mean ± std. dev. of 7 runs, 10 loops each)\n"
     ]
    }
   ],
   "source": [
    "%%timeit\n",
    "filtered_df = df_csv.filter(pl.col(\"IncidentGrade\") == \"FalsePositive\")"
   ]
  },
  {
   "cell_type": "code",
   "execution_count": 17,
   "id": "b462bf87-fa1d-47f3-9a35-e700a18e5c5b",
   "metadata": {},
   "outputs": [
    {
     "name": "stdout",
     "output_type": "stream",
     "text": [
      "Collecting duckdb\n",
      "  Downloading duckdb-1.0.0-cp311-cp311-win_amd64.whl.metadata (781 bytes)\n",
      "Downloading duckdb-1.0.0-cp311-cp311-win_amd64.whl (9.9 MB)\n",
      "   ---------------------------------------- 0.0/9.9 MB ? eta -:--:--\n",
      "   ---------------------------------------- 0.0/9.9 MB ? eta -:--:--\n",
      "   ---------------------------------------- 0.0/9.9 MB 653.6 kB/s eta 0:00:16\n",
      "   -- ------------------------------------- 0.5/9.9 MB 5.2 MB/s eta 0:00:02\n",
      "   ------ --------------------------------- 1.6/9.9 MB 11.0 MB/s eta 0:00:01\n",
      "   ------------- -------------------------- 3.2/9.9 MB 17.2 MB/s eta 0:00:01\n",
      "   -------------------------- ------------- 6.7/9.9 MB 28.4 MB/s eta 0:00:01\n",
      "   ---------------------------------------  9.9/9.9 MB 37.3 MB/s eta 0:00:01\n",
      "   ---------------------------------------- 9.9/9.9 MB 33.4 MB/s eta 0:00:00\n",
      "Installing collected packages: duckdb\n",
      "Successfully installed duckdb-1.0.0\n",
      "Note: you may need to restart the kernel to use updated packages.\n"
     ]
    }
   ],
   "source": [
    "pip install duckdb"
   ]
  },
  {
   "cell_type": "code",
   "execution_count": 19,
   "id": "3a50e318-2342-45e2-896c-c2019baf7229",
   "metadata": {},
   "outputs": [],
   "source": [
    "import duckdb"
   ]
  },
  {
   "cell_type": "code",
   "execution_count": 21,
   "id": "150ad6b2-dd5f-41a3-891d-e8e0911b58d8",
   "metadata": {},
   "outputs": [
    {
     "ename": "SyntaxError",
     "evalue": "invalid syntax (2839277980.py, line 1)",
     "output_type": "error",
     "traceback": [
      "\u001b[1;36m  Cell \u001b[1;32mIn[21], line 1\u001b[1;36m\u001b[0m\n\u001b[1;33m    SELECT * FROM 'GUIDE_Test.csv';\u001b[0m\n\u001b[1;37m                  ^\u001b[0m\n\u001b[1;31mSyntaxError\u001b[0m\u001b[1;31m:\u001b[0m invalid syntax\n"
     ]
    }
   ],
   "source": [
    "SELECT * FROM 'GUIDE_Test.csv';"
   ]
  },
  {
   "cell_type": "code",
   "execution_count": 25,
   "id": "ac54df69-9ba4-4f17-a807-d49870bb870d",
   "metadata": {},
   "outputs": [
    {
     "data": {
      "text/plain": [
       "┌───────────────┬───────┬────────────┬─────────┬─────────────────────┬───┬─────────────┬───────┬───────┬─────────┐\n",
       "│      Id       │ OrgId │ IncidentId │ AlertId │      Timestamp      │ … │ CountryCode │ State │ City  │  Usage  │\n",
       "│     int64     │ int64 │   int64    │  int64  │      timestamp      │   │    int64    │ int64 │ int64 │ varchar │\n",
       "├───────────────┼───────┼────────────┼─────────┼─────────────────────┼───┼─────────────┼───────┼───────┼─────────┤\n",
       "│ 1245540519230 │   657 │      11767 │   87199 │ 2024-06-04 22:56:27 │ … │         242 │  1445 │ 10630 │ Private │\n",
       "│ 1400159342154 │     3 │      91158 │  632273 │ 2024-06-03 12:58:26 │ … │         242 │  1445 │ 10630 │ Public  │\n",
       "│ 1279900255923 │   145 │      32247 │  131719 │ 2024-06-08 03:20:49 │ … │         242 │  1445 │ 10630 │ Public  │\n",
       "│   60129547292 │   222 │      15294 │  917686 │ 2024-06-12 12:07:31 │ … │         242 │  1445 │ 10630 │ Public  │\n",
       "│  515396080539 │   363 │       7615 │    5944 │ 2024-06-06 17:42:05 │ … │         242 │  1445 │ 10630 │ Public  │\n",
       "│  670014899930 │     0 │        238 │  378946 │ 2024-06-06 08:10:50 │ … │         242 │  1445 │ 10630 │ Public  │\n",
       "│ 1194000913330 │   133 │     105333 │  732769 │ 2024-06-15 04:06:55 │ … │         242 │  1445 │ 10630 │ Private │\n",
       "│  678604832796 │     6 │       2461 │    1523 │ 2024-05-26 11:48:38 │ … │         242 │  1445 │ 10630 │ Public  │\n",
       "│  618475292265 │     7 │       5177 │    1815 │ 2024-05-25 17:57:20 │ … │         242 │  1445 │ 10630 │ Public  │\n",
       "│  438086667998 │   100 │       7060 │    9787 │ 2024-06-02 05:46:22 │ … │         242 │  1445 │ 10630 │ Public  │\n",
       "│        ·      │     · │         ·  │      ·  │          ·          │ · │          ·  │    ·  │   ·   │   ·     │\n",
       "│        ·      │     · │         ·  │      ·  │          ·          │ · │          ·  │    ·  │   ·   │   ·     │\n",
       "│        ·      │     · │         ·  │      ·  │          ·          │ · │          ·  │    ·  │   ·   │   ·     │\n",
       "│ 1529008359132 │     0 │        484 │  326737 │ 2024-06-07 23:04:44 │ … │         242 │  1445 │ 10630 │ Public  │\n",
       "│ 1580547964942 │     6 │       1680 │    1610 │ 2024-05-20 15:41:52 │ … │         242 │  1445 │ 10630 │ Public  │\n",
       "│  730144445582 │    46 │     242296 │  483255 │ 2024-06-02 23:50:38 │ … │         242 │  1445 │ 10630 │ Public  │\n",
       "│ 1623497639115 │    16 │     160761 │ 1442481 │ 2024-06-12 21:13:22 │ … │         242 │  1445 │ 10630 │ Private │\n",
       "│  670014899781 │    21 │        470 │  198487 │ 2024-06-09 20:24:06 │ … │         242 │  1445 │ 10630 │ Public  │\n",
       "│  738734375582 │    22 │        933 │  547212 │ 2024-06-05 12:49:29 │ … │         242 │  1445 │ 10630 │ Public  │\n",
       "│ 1511828492479 │    36 │      92513 │   66367 │ 2024-06-09 20:04:20 │ … │         242 │  1445 │ 10630 │ Private │\n",
       "│ 1279900256743 │     5 │        172 │  373507 │ 2024-06-03 06:10:43 │ … │          18 │    91 │   125 │ Public  │\n",
       "│ 1597727835731 │     1 │        273 │  402248 │ 2024-06-11 13:57:52 │ … │           0 │    11 │     8 │ Private │\n",
       "│  893353202427 │     4 │        398 │     421 │ 2024-05-20 09:02:09 │ … │         242 │  1445 │ 10630 │ Public  │\n",
       "├───────────────┴───────┴────────────┴─────────┴─────────────────────┴───┴─────────────┴───────┴───────┴─────────┤\n",
       "│ ? rows (>9999 rows, 20 shown)                                                             46 columns (9 shown) │\n",
       "└────────────────────────────────────────────────────────────────────────────────────────────────────────────────┘"
      ]
     },
     "execution_count": 25,
     "metadata": {},
     "output_type": "execute_result"
    }
   ],
   "source": [
    "duckdb.read_csv(\"GUIDE_Test.csv\")\n",
    "\n"
   ]
  },
  {
   "cell_type": "code",
   "execution_count": 29,
   "id": "c0e338eb-226d-4276-b922-946ba183ce9f",
   "metadata": {},
   "outputs": [
    {
     "name": "stdout",
     "output_type": "stream",
     "text": [
      "130 ms ± 2.72 ms per loop (mean ± std. dev. of 7 runs, 10 loops each)\n"
     ]
    }
   ],
   "source": [
    "%%timeit\n",
    "duckdb.sql(\"SELECT * FROM read_csv('GUIDE_Test.csv') WHERE IncidentGrade like 'FalsePositive'\")"
   ]
  },
  {
   "cell_type": "code",
   "execution_count": 31,
   "id": "eb507ba5-27e5-4029-b92f-18c906244246",
   "metadata": {},
   "outputs": [
    {
     "data": {
      "text/plain": [
       "┌───────────────┬───────┬────────────┬─────────┬─────────────────────┬───┬─────────────┬───────┬───────┬─────────┐\n",
       "│      Id       │ OrgId │ IncidentId │ AlertId │      Timestamp      │ … │ CountryCode │ State │ City  │  Usage  │\n",
       "│     int64     │ int64 │   int64    │  int64  │      timestamp      │   │    int64    │ int64 │ int64 │ varchar │\n",
       "├───────────────┼───────┼────────────┼─────────┼─────────────────────┼───┼─────────────┼───────┼───────┼─────────┤\n",
       "│   60129547292 │   222 │      15294 │  917686 │ 2024-06-12 12:07:31 │ … │         242 │  1445 │ 10630 │ Public  │\n",
       "│  618475292265 │     7 │       5177 │    1815 │ 2024-05-25 17:57:20 │ … │         242 │  1445 │ 10630 │ Public  │\n",
       "│ 1365799601724 │   232 │      10293 │  437075 │ 2024-06-03 20:26:20 │ … │         242 │  1445 │ 10630 │ Private │\n",
       "│ 1374389535400 │    17 │       3517 │   15766 │ 2024-06-10 21:04:12 │ … │         242 │  1445 │ 10630 │ Public  │\n",
       "│   60129546485 │    30 │     145209 │  146034 │ 2024-06-07 02:40:22 │ … │         242 │  1445 │ 10630 │ Public  │\n",
       "│  858993463554 │   413 │     246882 │ 1353160 │ 2024-06-13 12:47:11 │ … │         242 │  1445 │ 10630 │ Public  │\n",
       "│ 1477468752868 │   210 │     108436 │  586912 │ 2024-06-12 16:17:37 │ … │         242 │  1445 │ 10630 │ Private │\n",
       "│  317827581536 │     7 │        167 │    1677 │ 2024-05-31 20:39:10 │ … │         242 │  1445 │ 10630 │ Public  │\n",
       "│  678604836935 │    20 │        583 │     879 │ 2024-06-03 19:16:06 │ … │         242 │  1445 │ 10630 │ Public  │\n",
       "│ 1632087574047 │  1742 │     133349 │  575068 │ 2024-06-09 23:58:26 │ … │         242 │  1445 │ 10630 │ Public  │\n",
       "│       ·       │     · │        ·   │     ·   │          ·          │ · │          ·  │    ·  │   ·   │   ·     │\n",
       "│       ·       │     · │        ·   │     ·   │          ·          │ · │          ·  │    ·  │   ·   │   ·     │\n",
       "│       ·       │     · │        ·   │     ·   │          ·          │ · │          ·  │    ·  │   ·   │   ·     │\n",
       "│ 1494648619216 │    11 │     115954 │  922051 │ 2024-06-12 09:45:06 │ … │         242 │  1445 │ 10630 │ Public  │\n",
       "│  180388628714 │   730 │     118792 │  299610 │ 2024-06-10 22:14:12 │ … │         242 │  1445 │ 10630 │ Private │\n",
       "│ 1537598295434 │   186 │      13985 │ 1114875 │ 2024-06-05 14:38:55 │ … │         242 │  1445 │ 10630 │ Public  │\n",
       "│  214748369872 │    96 │       3632 │    2338 │ 2024-06-12 00:51:34 │ … │         242 │  1445 │ 10630 │ Public  │\n",
       "│  498216211330 │     4 │        401 │    1735 │ 2024-05-30 14:54:14 │ … │         242 │  1445 │ 10630 │ Public  │\n",
       "│ 1228360647060 │    79 │        676 │ 1097562 │ 2024-06-12 00:57:16 │ … │         242 │  1445 │ 10630 │ Public  │\n",
       "│ 1580547970056 │    96 │     477535 │  345712 │ 2024-06-11 13:57:08 │ … │         242 │  1445 │ 10630 │ Private │\n",
       "│  738734377534 │    98 │     348550 │ 1025977 │ 2024-06-12 06:43:59 │ … │           0 │   165 │   468 │ Private │\n",
       "│  231928234560 │    93 │         10 │       0 │ 2024-06-11 22:02:45 │ … │         242 │  1445 │ 10630 │ Public  │\n",
       "│  481036339200 │   488 │      56932 │  361284 │ 2024-06-11 14:19:46 │ … │         242 │  1445 │ 10630 │ Private │\n",
       "├───────────────┴───────┴────────────┴─────────┴─────────────────────┴───┴─────────────┴───────┴───────┴─────────┤\n",
       "│ ? rows (>9999 rows, 20 shown)                                                             46 columns (9 shown) │\n",
       "└────────────────────────────────────────────────────────────────────────────────────────────────────────────────┘"
      ]
     },
     "execution_count": 31,
     "metadata": {},
     "output_type": "execute_result"
    }
   ],
   "source": [
    "duckdb.sql(\"SELECT * FROM read_csv('GUIDE_Test.csv') WHERE IncidentGrade like 'FalsePositive'\")"
   ]
  },
  {
   "cell_type": "code",
   "execution_count": null,
   "id": "91317d61-587d-4908-834f-cc4c46d15b76",
   "metadata": {},
   "outputs": [],
   "source": []
  }
 ],
 "metadata": {
  "kernelspec": {
   "display_name": "Python 3 (ipykernel)",
   "language": "python",
   "name": "python3"
  },
  "language_info": {
   "codemirror_mode": {
    "name": "ipython",
    "version": 3
   },
   "file_extension": ".py",
   "mimetype": "text/x-python",
   "name": "python",
   "nbconvert_exporter": "python",
   "pygments_lexer": "ipython3",
   "version": "3.11.7"
  }
 },
 "nbformat": 4,
 "nbformat_minor": 5
}
