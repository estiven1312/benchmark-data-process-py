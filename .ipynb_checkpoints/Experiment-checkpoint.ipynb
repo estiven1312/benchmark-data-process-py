{
 "cells": [
  {
   "cell_type": "code",
   "execution_count": 1,
   "id": "bd684dbe-a967-4138-953e-37bbbc6530e4",
   "metadata": {},
   "outputs": [],
   "source": [
    "import pandas as pd\n",
    "import timeit"
   ]
  },
  {
   "cell_type": "code",
   "execution_count": 26,
   "id": "a1f7f1d1-cb26-43d6-bc49-22611baf0231",
   "metadata": {},
   "outputs": [],
   "source": [
    "df=pd.read_csv('./GUIDE_Test.csv', sep=',',  dtype={\"MitreTechniques\": str, \"ActionGrouped\": str, 'ActionGranular':str, 'ThreatFamily':str, 'ResourceType':str, 'Roles':str, 'AntispamDirection':str,'SuspicionLevel': str, 'LastVerdict':str})\n"
   ]
  },
  {
   "cell_type": "code",
   "execution_count": 28,
   "id": "d298d9f5-c3f9-451d-9eeb-2a6bd9a28106",
   "metadata": {},
   "outputs": [
    {
     "data": {
      "text/html": [
       "<div>\n",
       "<style scoped>\n",
       "    .dataframe tbody tr th:only-of-type {\n",
       "        vertical-align: middle;\n",
       "    }\n",
       "\n",
       "    .dataframe tbody tr th {\n",
       "        vertical-align: top;\n",
       "    }\n",
       "\n",
       "    .dataframe thead th {\n",
       "        text-align: right;\n",
       "    }\n",
       "</style>\n",
       "<table border=\"1\" class=\"dataframe\">\n",
       "  <thead>\n",
       "    <tr style=\"text-align: right;\">\n",
       "      <th></th>\n",
       "      <th>Id</th>\n",
       "      <th>OrgId</th>\n",
       "      <th>IncidentId</th>\n",
       "      <th>AlertId</th>\n",
       "      <th>Timestamp</th>\n",
       "      <th>DetectorId</th>\n",
       "      <th>AlertTitle</th>\n",
       "      <th>Category</th>\n",
       "      <th>MitreTechniques</th>\n",
       "      <th>IncidentGrade</th>\n",
       "      <th>...</th>\n",
       "      <th>Roles</th>\n",
       "      <th>OSFamily</th>\n",
       "      <th>OSVersion</th>\n",
       "      <th>AntispamDirection</th>\n",
       "      <th>SuspicionLevel</th>\n",
       "      <th>LastVerdict</th>\n",
       "      <th>CountryCode</th>\n",
       "      <th>State</th>\n",
       "      <th>City</th>\n",
       "      <th>Usage</th>\n",
       "    </tr>\n",
       "  </thead>\n",
       "  <tbody>\n",
       "    <tr>\n",
       "      <th>4147987</th>\n",
       "      <td>541165881145</td>\n",
       "      <td>262</td>\n",
       "      <td>3017</td>\n",
       "      <td>227156</td>\n",
       "      <td>2024-06-04T03:53:15.000Z</td>\n",
       "      <td>139</td>\n",
       "      <td>120</td>\n",
       "      <td>InitialAccess</td>\n",
       "      <td>T1566.002</td>\n",
       "      <td>BenignPositive</td>\n",
       "      <td>...</td>\n",
       "      <td>NaN</td>\n",
       "      <td>5</td>\n",
       "      <td>66</td>\n",
       "      <td>NaN</td>\n",
       "      <td>NaN</td>\n",
       "      <td>NaN</td>\n",
       "      <td>242</td>\n",
       "      <td>1445</td>\n",
       "      <td>10630</td>\n",
       "      <td>Public</td>\n",
       "    </tr>\n",
       "    <tr>\n",
       "      <th>4147988</th>\n",
       "      <td>438086666953</td>\n",
       "      <td>1323</td>\n",
       "      <td>31001</td>\n",
       "      <td>304819</td>\n",
       "      <td>2024-06-04T19:32:19.000Z</td>\n",
       "      <td>219</td>\n",
       "      <td>196</td>\n",
       "      <td>InitialAccess</td>\n",
       "      <td>NaN</td>\n",
       "      <td>BenignPositive</td>\n",
       "      <td>...</td>\n",
       "      <td>NaN</td>\n",
       "      <td>5</td>\n",
       "      <td>66</td>\n",
       "      <td>NaN</td>\n",
       "      <td>NaN</td>\n",
       "      <td>NaN</td>\n",
       "      <td>242</td>\n",
       "      <td>1445</td>\n",
       "      <td>10630</td>\n",
       "      <td>Private</td>\n",
       "    </tr>\n",
       "    <tr>\n",
       "      <th>4147989</th>\n",
       "      <td>1297080124487</td>\n",
       "      <td>47</td>\n",
       "      <td>3653</td>\n",
       "      <td>7243</td>\n",
       "      <td>2024-06-15T00:50:22.000Z</td>\n",
       "      <td>57</td>\n",
       "      <td>29</td>\n",
       "      <td>CommandAndControl</td>\n",
       "      <td>T1046;T1071;T1210</td>\n",
       "      <td>FalsePositive</td>\n",
       "      <td>...</td>\n",
       "      <td>NaN</td>\n",
       "      <td>5</td>\n",
       "      <td>66</td>\n",
       "      <td>NaN</td>\n",
       "      <td>NaN</td>\n",
       "      <td>NaN</td>\n",
       "      <td>242</td>\n",
       "      <td>1445</td>\n",
       "      <td>10630</td>\n",
       "      <td>Public</td>\n",
       "    </tr>\n",
       "    <tr>\n",
       "      <th>4147990</th>\n",
       "      <td>627065226886</td>\n",
       "      <td>70</td>\n",
       "      <td>4243</td>\n",
       "      <td>19142</td>\n",
       "      <td>2024-06-11T16:18:12.000Z</td>\n",
       "      <td>1</td>\n",
       "      <td>1</td>\n",
       "      <td>InitialAccess</td>\n",
       "      <td>T1566.002</td>\n",
       "      <td>BenignPositive</td>\n",
       "      <td>...</td>\n",
       "      <td>NaN</td>\n",
       "      <td>5</td>\n",
       "      <td>66</td>\n",
       "      <td>NaN</td>\n",
       "      <td>NaN</td>\n",
       "      <td>NaN</td>\n",
       "      <td>242</td>\n",
       "      <td>1445</td>\n",
       "      <td>10630</td>\n",
       "      <td>Private</td>\n",
       "    </tr>\n",
       "    <tr>\n",
       "      <th>4147991</th>\n",
       "      <td>326417516547</td>\n",
       "      <td>227</td>\n",
       "      <td>8384</td>\n",
       "      <td>33529</td>\n",
       "      <td>2024-06-04T18:11:09.000Z</td>\n",
       "      <td>1</td>\n",
       "      <td>1</td>\n",
       "      <td>InitialAccess</td>\n",
       "      <td>T1566.002</td>\n",
       "      <td>TruePositive</td>\n",
       "      <td>...</td>\n",
       "      <td>NaN</td>\n",
       "      <td>5</td>\n",
       "      <td>66</td>\n",
       "      <td>NaN</td>\n",
       "      <td>NaN</td>\n",
       "      <td>NoThreatsFound</td>\n",
       "      <td>242</td>\n",
       "      <td>1445</td>\n",
       "      <td>10630</td>\n",
       "      <td>Public</td>\n",
       "    </tr>\n",
       "  </tbody>\n",
       "</table>\n",
       "<p>5 rows × 46 columns</p>\n",
       "</div>"
      ],
      "text/plain": [
       "                    Id  OrgId  IncidentId  AlertId                 Timestamp  \\\n",
       "4147987   541165881145    262        3017   227156  2024-06-04T03:53:15.000Z   \n",
       "4147988   438086666953   1323       31001   304819  2024-06-04T19:32:19.000Z   \n",
       "4147989  1297080124487     47        3653     7243  2024-06-15T00:50:22.000Z   \n",
       "4147990   627065226886     70        4243    19142  2024-06-11T16:18:12.000Z   \n",
       "4147991   326417516547    227        8384    33529  2024-06-04T18:11:09.000Z   \n",
       "\n",
       "         DetectorId  AlertTitle           Category    MitreTechniques  \\\n",
       "4147987         139         120      InitialAccess          T1566.002   \n",
       "4147988         219         196      InitialAccess                NaN   \n",
       "4147989          57          29  CommandAndControl  T1046;T1071;T1210   \n",
       "4147990           1           1      InitialAccess          T1566.002   \n",
       "4147991           1           1      InitialAccess          T1566.002   \n",
       "\n",
       "          IncidentGrade  ... Roles OSFamily OSVersion AntispamDirection  \\\n",
       "4147987  BenignPositive  ...   NaN        5        66               NaN   \n",
       "4147988  BenignPositive  ...   NaN        5        66               NaN   \n",
       "4147989   FalsePositive  ...   NaN        5        66               NaN   \n",
       "4147990  BenignPositive  ...   NaN        5        66               NaN   \n",
       "4147991    TruePositive  ...   NaN        5        66               NaN   \n",
       "\n",
       "         SuspicionLevel     LastVerdict  CountryCode  State   City    Usage  \n",
       "4147987             NaN             NaN          242   1445  10630   Public  \n",
       "4147988             NaN             NaN          242   1445  10630  Private  \n",
       "4147989             NaN             NaN          242   1445  10630   Public  \n",
       "4147990             NaN             NaN          242   1445  10630  Private  \n",
       "4147991             NaN  NoThreatsFound          242   1445  10630   Public  \n",
       "\n",
       "[5 rows x 46 columns]"
      ]
     },
     "execution_count": 28,
     "metadata": {},
     "output_type": "execute_result"
    }
   ],
   "source": [
    "df.tail(5)"
   ]
  },
  {
   "cell_type": "code",
   "execution_count": 30,
   "id": "2b4c7fc5-9542-4e5e-b7c0-9f57324ec7ce",
   "metadata": {},
   "outputs": [
    {
     "name": "stdout",
     "output_type": "stream",
     "text": [
      "358 ms ± 4.03 ms per loop (mean ± std. dev. of 7 runs, 1 loop each)\n"
     ]
    }
   ],
   "source": [
    "%%timeit\n",
    "filtered_df = df[df['IncidentGrade'] == 'FalsePositive']"
   ]
  },
  {
   "cell_type": "code",
   "execution_count": 34,
   "id": "449ec55b-7e12-4c8a-a6a1-fd8880ba754c",
   "metadata": {},
   "outputs": [
    {
     "name": "stdout",
     "output_type": "stream",
     "text": [
      "Collecting polars\n",
      "  Using cached polars-1.6.0-cp38-abi3-win_amd64.whl.metadata (14 kB)\n",
      "Using cached polars-1.6.0-cp38-abi3-win_amd64.whl (31.4 MB)\n",
      "Installing collected packages: polars\n",
      "Successfully installed polars-1.6.0\n",
      "Note: you may need to restart the kernel to use updated packages.\n"
     ]
    }
   ],
   "source": [
    "pip install polars"
   ]
  },
  {
   "cell_type": "code",
   "execution_count": 36,
   "id": "d11818d8-f533-4a12-9279-5ae2989e2f36",
   "metadata": {},
   "outputs": [],
   "source": [
    "import polars as pl"
   ]
  },
  {
   "cell_type": "code",
   "execution_count": 38,
   "id": "3e15706b-f100-4de7-97d9-578b73083761",
   "metadata": {},
   "outputs": [],
   "source": [
    "df_csv = pl.read_csv('./GUIDE_Test.csv')"
   ]
  },
  {
   "cell_type": "code",
   "execution_count": 40,
   "id": "88f7aad8-1a75-43aa-a2a6-db2f5b8f3983",
   "metadata": {},
   "outputs": [
    {
     "name": "stdout",
     "output_type": "stream",
     "text": [
      "138 ms ± 3.08 ms per loop (mean ± std. dev. of 7 runs, 10 loops each)\n"
     ]
    }
   ],
   "source": [
    "%%timeit\n",
    "filtered_df = df_csv.filter(pl.col(\"IncidentGrade\") == \"FalsePositive\")"
   ]
  },
  {
   "cell_type": "code",
   "execution_count": null,
   "id": "3a50e318-2342-45e2-896c-c2019baf7229",
   "metadata": {},
   "outputs": [],
   "source": []
  }
 ],
 "metadata": {
  "kernelspec": {
   "display_name": "Python 3 (ipykernel)",
   "language": "python",
   "name": "python3"
  },
  "language_info": {
   "codemirror_mode": {
    "name": "ipython",
    "version": 3
   },
   "file_extension": ".py",
   "mimetype": "text/x-python",
   "name": "python",
   "nbconvert_exporter": "python",
   "pygments_lexer": "ipython3",
   "version": "3.11.7"
  }
 },
 "nbformat": 4,
 "nbformat_minor": 5
}
